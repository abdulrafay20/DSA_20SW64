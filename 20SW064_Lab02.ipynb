{
  "nbformat": 4,
  "nbformat_minor": 0,
  "metadata": {
    "colab": {
      "provenance": [],
      "include_colab_link": true
    },
    "kernelspec": {
      "name": "python3",
      "display_name": "Python 3"
    },
    "language_info": {
      "name": "python"
    }
  },
  "cells": [
    {
      "cell_type": "markdown",
      "metadata": {
        "id": "view-in-github",
        "colab_type": "text"
      },
      "source": [
        "<a href=\"https://colab.research.google.com/github/abdulrafay20/DSA_20SW64/blob/main/20SW064_Lab02.ipynb\" target=\"_parent\"><img src=\"https://colab.research.google.com/assets/colab-badge.svg\" alt=\"Open In Colab\"/></a>"
      ]
    },
    {
      "cell_type": "markdown",
      "source": [
        "lAB: 02\n",
        "SECTION: 2\n",
        "ROLL NO: 20SW064"
      ],
      "metadata": {
        "id": "2oCm5NeNP4rL"
      }
    },
    {
      "cell_type": "code",
      "source": [
        "points = 174\n",
        "\n",
        "if 1 <= points <= 50:\n",
        "    result = \"Congratulations! You won a wooden rabbit prize.\"\n",
        "elif 51 <= points <= 150:\n",
        "    result = \"Congratulations! You won a no prize.\"\n",
        "elif 151 <= points <= 180:\n",
        "    result = \"Congratulations! You won a water thin mint prize.\"\n",
        "elif 181 <= points <= 200:\n",
        "    result = \"Congratulations! You won a penguin prize.\"\n",
        "else:\n",
        "    result = \"Dear, no prize this time.\"\n",
        "\n",
        "print(result)"
      ],
      "metadata": {
        "id": "1-1sANPqJ297",
        "colab": {
          "base_uri": "https://localhost:8080/"
        },
        "outputId": "257eb41a-2ba4-43cc-afe1-f66c72df50e7"
      },
      "execution_count": null,
      "outputs": [
        {
          "output_type": "stream",
          "name": "stdout",
          "text": [
            "Congratulations! You won a water thin mint prize.\n"
          ]
        }
      ]
    },
    {
      "cell_type": "code",
      "source": [
        "\n",
        "answer = 174\n",
        "guess = int(input(\"Enter your guess:\"))\n",
        "\n",
        "if guess < answer:\n",
        "    result = \"Oops! Your guess was too low.\"\n",
        "elif guess > answer:\n",
        "    result = \"Oops! Your guess was too high.\"\n",
        "else:\n",
        "    result = \"Nice! Your guess matched the answer!\"\n",
        "\n",
        "print(result)"
      ],
      "metadata": {
        "colab": {
          "base_uri": "https://localhost:8080/"
        },
        "id": "6FpGmBMxzVPz",
        "outputId": "e4effc6d-6b0a-4212-c1a1-5645f2025741"
      },
      "execution_count": 15,
      "outputs": [
        {
          "output_type": "stream",
          "name": "stdout",
          "text": [
            "Enter your guess:174\n",
            "Nice! Your guess matched the answer!\n"
          ]
        }
      ]
    },
    {
      "cell_type": "code",
      "source": [
        "\n",
        "def calculate_tax(purchase_amount, state):\n",
        "    tax_rates = {\n",
        "        'CA': 0.075,\n",
        "        'MN': 0.095,\n",
        "        'NY': 0.089\n",
        "    }\n",
        "\n",
        "    if state in tax_rates:\n",
        "        tax_rate = tax_rates[state]\n",
        "        tax_amount = purchase_amount * tax_rate\n",
        "        total_amount = purchase_amount + tax_amount\n",
        "        return total_amount\n",
        "    else:\n",
        "        print(\"State not found in the tax rates.\")\n",
        "        return None\n",
        "\n",
        "# Test the function\n",
        "purchase_amount = 100\n",
        "state = 'CA'\n",
        "total_amount_with_tax = calculate_tax(purchase_amount, state)\n",
        "print(f\"Total amount with tax in {state}: ${total_amount_with_tax:.2f}\")"
      ],
      "metadata": {
        "colab": {
          "base_uri": "https://localhost:8080/"
        },
        "id": "qgXHTumMzU9_",
        "outputId": "d18d2e7b-bd9a-4ad0-c98b-6fda41f64c5c"
      },
      "execution_count": 18,
      "outputs": [
        {
          "output_type": "stream",
          "name": "stdout",
          "text": [
            "Total amount with tax in CA: $107.50\n"
          ]
        }
      ]
    },
    {
      "cell_type": "code",
      "source": [
        "\n",
        "my_list = [\"the\",\"fast\", \"blue\" , \"car\", \"jumped\",\"over\", \"the\" , \"big\" , \"rock\"]\n",
        "\n",
        "for element in my_list:\n",
        "    print(element)"
      ],
      "metadata": {
        "colab": {
          "base_uri": "https://localhost:8080/"
        },
        "id": "bYxvphIVuab2",
        "outputId": "8e0f3871-173d-4de9-88ec-c27c9ee0310e"
      },
      "execution_count": null,
      "outputs": [
        {
          "output_type": "stream",
          "name": "stdout",
          "text": [
            "the\n",
            "fast\n",
            "blue\n",
            "car\n",
            "jumped\n",
            "over\n",
            "the\n",
            "big\n",
            "rock\n"
          ]
        }
      ]
    },
    {
      "cell_type": "code",
      "source": [
        "\n",
        "Multiple=[x for x in range (1, 31) if x%5==0]\n",
        "print(Multiple)"
      ],
      "metadata": {
        "colab": {
          "base_uri": "https://localhost:8080/"
        },
        "id": "zbhUJSTv0DTl",
        "outputId": "d9f1df4e-6cb5-44b8-c16a-af9788cefa39"
      },
      "execution_count": null,
      "outputs": [
        {
          "output_type": "stream",
          "name": "stdout",
          "text": [
            "[5, 10, 15, 20, 25, 30]\n"
          ]
        }
      ]
    },
    {
      "cell_type": "code",
      "source": [
        "\n",
        "names = [\"Sam\", \"Taha\", \"Jinsar\", \"Danish\", \"Ahmed\"]\n",
        "# Using list comprehension to extract first names in lowercase\n",
        "first_names = [name.split()[0].lower() for name in names]\n",
        "\n",
        "print(first_names)"
      ],
      "metadata": {
        "colab": {
          "base_uri": "https://localhost:8080/"
        },
        "id": "fYY8xp0k0G2Q",
        "outputId": "f1cbf68a-0a1f-4cc1-ef0e-5ed5011dd1ab"
      },
      "execution_count": 16,
      "outputs": [
        {
          "output_type": "stream",
          "name": "stdout",
          "text": [
            "['sam', 'taha', 'jinsar', 'danish', 'ahmed']\n"
          ]
        }
      ]
    },
    {
      "cell_type": "code",
      "source": [
        "\n",
        "Square = [x for x in range(3,21) if x%3==0]\n",
        "print(Square)"
      ],
      "metadata": {
        "id": "FGyEfja_0RMT"
      },
      "execution_count": null,
      "outputs": []
    },
    {
      "cell_type": "code",
      "source": [
        "\n",
        "scores = {\n",
        "    \"Rick Sanchez\": 70,\n",
        "    \"Morty Smith\": 35,\n",
        "    \"Summer Smith\": 82,\n",
        "    \"Jerry Smith\": 23,\n",
        "    \"Beth Smith\": 98\n",
        "}\n",
        "\n",
        "passed = [x for x in scores if scores[x] >= 65]\n",
        "print(passed)"
      ],
      "metadata": {
        "id": "y2QnQdK00Suf",
        "colab": {
          "base_uri": "https://localhost:8080/"
        },
        "outputId": "f60e29d0-4441-45c5-f0b9-7fa5f729171e"
      },
      "execution_count": 17,
      "outputs": [
        {
          "output_type": "stream",
          "name": "stdout",
          "text": [
            "['Rick Sanchez', 'Summer Smith', 'Beth Smith']\n"
          ]
        }
      ]
    },
    {
      "cell_type": "code",
      "source": [
        "\n",
        "cast_names = [\"Barney\", \"Robin\", \"Ted\", \"Lily\", \"Marshall\"]\n",
        "cast_heights = [72, 68, 72, 66, 76]\n",
        "\n",
        "cast = dict(zip(cast_names, cast_heights))\n",
        "print(cast)"
      ],
      "metadata": {
        "id": "C2aRGGaS0feP"
      },
      "execution_count": null,
      "outputs": []
    },
    {
      "cell_type": "code",
      "source": [
        "\n",
        "cast = [\"Barney Stinson\", \"Robin Scherbatsky\", \"Ted Mosby\", \"Lily Aldrin\", \"Marshall Eriksen\"]\n",
        "heights = [72, 68, 72, 66, 76]\n",
        "\n",
        "for i, x in enumerate(cast):\n",
        "    cast[i] = x + \" \" + str(heights[i])\n",
        "\n",
        "print(cast)"
      ],
      "metadata": {
        "id": "LW5JeY1C0ijD"
      },
      "execution_count": null,
      "outputs": []
    }
  ]
}